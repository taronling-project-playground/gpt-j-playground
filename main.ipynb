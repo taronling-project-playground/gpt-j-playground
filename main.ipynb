{
 "cells": [
  {
   "cell_type": "code",
   "execution_count": 1,
   "metadata": {},
   "outputs": [],
   "source": [
    "import time\n",
    "import os\n",
    "\n",
    "import pandas as pd\n",
    "import numpy as np\n",
    "\n",
    "import torch\n",
    "import transformers\n",
    "from transformers import GPTJForCausalLM, AutoTokenizer\n",
    "\n",
    "\n",
    "from logzero import logger, logfile\n",
    "\n",
    "logfile('logs/logs.txt')"
   ]
  },
  {
   "cell_type": "code",
   "execution_count": 2,
   "metadata": {},
   "outputs": [],
   "source": [
    "# Globals\n",
    "model_save_location = '/home/gpt/gpt-j-playground/pre_trained'"
   ]
  },
  {
   "cell_type": "code",
   "execution_count": 3,
   "metadata": {},
   "outputs": [
    {
     "name": "stderr",
     "output_type": "stream",
     "text": [
      "[I 211217 14:15:32 3389101902:3] loading pre-trained model & tokenizer\n"
     ]
    }
   ],
   "source": [
    "if torch.cuda.is_available():\n",
    "    if os.path.exists(model_save_location):\n",
    "        logger.info('loading pre-trained model & tokenizer')\n",
    "        model = GPTJForCausalLM.from_pretrained(model_save_location, torch_dtype=torch.float16).cuda()\n",
    "        tokenizer = AutoTokenizer.from_pretrained(model_save_location)\n",
    "\n",
    "    else:\n",
    "        model = GPTJForCausalLM.from_pretrained('EleutherAI/gpt-j-6B', torch_dtype=torch.float16).cuda()\n",
    "        model.save_pretrained(model_save_location)\n",
    "        tokenizer = AutoTokenizer.from_pretrained('EleutherAI/gpt-j-6B')\n",
    "        tokenizer.save_pretrained(model_save_location)"
   ]
  },
  {
   "cell_type": "code",
   "execution_count": 7,
   "metadata": {},
   "outputs": [
    {
     "name": "stderr",
     "output_type": "stream",
     "text": [
      "Setting `pad_token_id` to `eos_token_id`:50256 for open-end generation.\n"
     ]
    },
    {
     "name": "stdout",
     "output_type": "stream",
     "text": [
      "What is a good marketing script for a biotech genomics startup?\n",
      "\n",
      "What is a good marketing script for a biotech genomics startup?\n",
      "\n",
      "The script I am looking for is to promote a genomics startup that has a novel product. It is a DNA sequencer for sequencing large volumes of DNA. The startup is a startup because it is in the early stages of development. The startup has a novel product, but it is not unique in the market. The startup has a novel product, but it is not new in the market. The startup has a novel product, but it is not unique in the market. The startup has a novel product, but it is not new in the market. The startup has a novel product, but it is not unique in the market. The startup has a novel product, but it is not new in the market. The startup has a novel product, but it is not unique in the market. The startup has a novel product, but it is not new in the market. The startup has a novel product, but it is not unique in the market. The startup has a novel product, but it is not new in the market. The startup has a novel product, but it is not unique in the market. The startup has a novel product, but it is not new in the market. The startup has a novel product, but it is not unique in the market. The startup has a novel product, but it is not new in the market\n"
     ]
    }
   ],
   "source": [
    "input_text = str(input(\"What's your prompt? \"))\n",
    "input_ids = tokenizer.encode(str(input_text), return_tensors='pt').cuda()\n",
    "\n",
    "output = model.generate(\n",
    "    input_ids,\n",
    "    do_sample=True,\n",
    "    max_length=300,\n",
    "    top_p=0.7, \n",
    "    top_k=0,\n",
    "    temperature=0.8\n",
    ")\n",
    "\n",
    "print(tokenizer.decode(output[0], skip_special_tokens=True))"
   ]
  },
  {
   "cell_type": "code",
   "execution_count": null,
   "metadata": {},
   "outputs": [],
   "source": []
  }
 ],
 "metadata": {
  "interpreter": {
   "hash": "828f4955fd4168b55858ebac81111ea85cc5f55a5839d371ae0b45171d343073"
  },
  "kernelspec": {
   "display_name": "Python 3.8.10 64-bit ('gptj_env': venv)",
   "language": "python",
   "name": "python3"
  },
  "language_info": {
   "codemirror_mode": {
    "name": "ipython",
    "version": 3
   },
   "file_extension": ".py",
   "mimetype": "text/x-python",
   "name": "python",
   "nbconvert_exporter": "python",
   "pygments_lexer": "ipython3",
   "version": "3.8.10"
  },
  "orig_nbformat": 4
 },
 "nbformat": 4,
 "nbformat_minor": 2
}
